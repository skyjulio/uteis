{
 "cells": [
  {
   "cell_type": "code",
   "execution_count": 6,
   "metadata": {},
   "outputs": [
    {
     "name": "stdout",
     "output_type": "stream",
     "text": [
      "4\n",
      "[2, 10, 'ju', 5]\n"
     ]
    }
   ],
   "source": [
    "lista = [2, 10, 'ju',5]\n",
    "print(len(lista))\n",
    "print(lista)"
   ]
  },
  {
   "cell_type": "code",
   "execution_count": 10,
   "metadata": {},
   "outputs": [
    {
     "name": "stdout",
     "output_type": "stream",
     "text": [
      "5\n",
      "[2, 10, 'ju', 5, ['amor', 'b']]\n",
      "amor\n"
     ]
    }
   ],
   "source": [
    "lista = [2, 10, 'ju',5, ['amor', 'b']]\n",
    "print(len(lista))\n",
    "print(lista)\n",
    "print(lista[-1][0])"
   ]
  },
  {
   "cell_type": "code",
   "execution_count": 11,
   "metadata": {},
   "outputs": [
    {
     "name": "stdout",
     "output_type": "stream",
     "text": [
      "5\n",
      "[2, 10, 'ju', 5, ['amor', 'b']]\n",
      "[2, 'julip', 'ju', 5, ['amor', 'b']]\n"
     ]
    }
   ],
   "source": [
    "lista = [2, 10, 'ju',5, ['amor', 'b']]\n",
    "print(len(lista))\n",
    "print(lista)\n",
    "lista[1]= 'julip'\n",
    "print (lista)"
   ]
  }
 ],
 "metadata": {
  "kernelspec": {
   "display_name": "Python 3",
   "language": "python",
   "name": "python3"
  },
  "language_info": {
   "codemirror_mode": {
    "name": "ipython",
    "version": 3
   },
   "file_extension": ".py",
   "mimetype": "text/x-python",
   "name": "python",
   "nbconvert_exporter": "python",
   "pygments_lexer": "ipython3",
   "version": "3.6.4"
  }
 },
 "nbformat": 4,
 "nbformat_minor": 2
}
