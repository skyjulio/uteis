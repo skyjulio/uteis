{
 "cells": [
  {
   "cell_type": "code",
   "execution_count": 1,
   "metadata": {},
   "outputs": [],
   "source": [
    "import numpy as np\n"
   ]
  },
  {
   "cell_type": "code",
   "execution_count": 3,
   "metadata": {},
   "outputs": [],
   "source": [
    "#valores = np.genfromtxt(\"arquivo.csv\", delimiter=\";\", skip_header=1)\n"
   ]
  },
  {
   "cell_type": "code",
   "execution_count": null,
   "metadata": {},
   "outputs": [],
   "source": [
    "#lendo o iris-setosa\n",
    "\n",
    "#data = np.genfromtxt('iris.data', delimiter=',', usecols=(0,1,2,3))\n",
    "\n",
    "#keb(data)\n",
    "\n",
    "#data[:,0]\n",
    "\n",
    "#plotar no grafico, as primeiras 50 primeiras\n",
    "\n",
    "# data[:50, 0] -- 50 primeiros registros -- top do sql\n",
    "\n",
    "#import matplhotlib.pyplot as plt\n",
    "# %matplotlib inline\n",
    "\n",
    "#plt.plot(data[:50, 0], c='red')"
   ]
  }
 ],
 "metadata": {
  "kernelspec": {
   "display_name": "Python 3",
   "language": "python",
   "name": "python3"
  },
  "language_info": {
   "codemirror_mode": {
    "name": "ipython",
    "version": 3
   },
   "file_extension": ".py",
   "mimetype": "text/x-python",
   "name": "python",
   "nbconvert_exporter": "python",
   "pygments_lexer": "ipython3",
   "version": "3.6.4"
  }
 },
 "nbformat": 4,
 "nbformat_minor": 2
}
