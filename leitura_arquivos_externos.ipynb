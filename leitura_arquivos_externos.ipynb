{
 "cells": [
  {
   "cell_type": "code",
   "execution_count": 12,
   "metadata": {},
   "outputs": [],
   "source": [
    "arq = open('arquivo.txt', 'w+')\n",
    "arq.write('machine learning')\n",
    "arq.write('\\n aprendendo python')\n",
    "\n",
    "arq.write('\\n')\n",
    "\n",
    "\n",
    "texto = '''\n",
    "Aprendendo python111\n",
    "machine learnt\n",
    "\n",
    "teste de multiplas linhas\n",
    "'''\n",
    "arq.write(texto)\n",
    "\n",
    "texto2 = '''\n",
    "2222222222222 \n",
    "33333333\n",
    "teste de multiplas linhas\n",
    "'''\n",
    "\n",
    "with open('arquivo.txt', 'w+') as f:\n",
    "    f.write(texto2)\n",
    "\n",
    "\n",
    "\n",
    "\n",
    "\n",
    "arq.close()"
   ]
  },
  {
   "cell_type": "code",
   "execution_count": null,
   "metadata": {},
   "outputs": [],
   "source": []
  }
 ],
 "metadata": {
  "kernelspec": {
   "display_name": "Python 3",
   "language": "python",
   "name": "python3"
  },
  "language_info": {
   "codemirror_mode": {
    "name": "ipython",
    "version": 3
   },
   "file_extension": ".py",
   "mimetype": "text/x-python",
   "name": "python",
   "nbconvert_exporter": "python",
   "pygments_lexer": "ipython3",
   "version": "3.6.4"
  }
 },
 "nbformat": 4,
 "nbformat_minor": 2
}
